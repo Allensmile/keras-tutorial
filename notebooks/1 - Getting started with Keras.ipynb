{
 "cells": [
  {
   "cell_type": "markdown",
   "metadata": {},
   "source": [
    "# Getting started with Keras"
   ]
  },
  {
   "cell_type": "markdown",
   "metadata": {},
   "source": [
    "Keras is a minimalist, highly modular deep neural network library written in Python and built on top of Theano and Tensorflow. This allows it to accelerate computations by offloading them to one or more GPUs. It is also easier to use than raw Theano and Tensorflow, as it includes several functionalities:\n",
    "\n",
    "- Standard APIs for sequential and functional models with feedforward, convolutional, and recurrent layers\n",
    "- Several optimization algorithms and advanced activation functions\n",
    "- Monitoring/callback support\n",
    "- Easily extensible"
   ]
  },
  {
   "cell_type": "markdown",
   "metadata": {},
   "source": [
    "Simple models, such as feedforward networks, are straightforward to implement. The code below is the entire definition of a simple digit classifier for the MNIST dataset (without the data preprocessing):"
   ]
  },
  {
   "cell_type": "code",
   "execution_count": 1,
   "metadata": {
    "collapsed": false
   },
   "outputs": [
    {
     "name": "stderr",
     "output_type": "stream",
     "text": [
      "Using Theano backend.\n",
      "Using gpu device 0: Quadro K2000M (CNMeM is disabled, cuDNN 5005)\n"
     ]
    },
    {
     "name": "stdout",
     "output_type": "stream",
     "text": [
      "____________________________________________________________________________________________________\n",
      "Layer (type)                     Output Shape          Param #     Connected to                     \n",
      "====================================================================================================\n",
      "dense_1 (Dense)                  (None, 512)           401920      dense_input_1[0][0]              \n",
      "____________________________________________________________________________________________________\n",
      "activation_1 (Activation)        (None, 512)           0           dense_1[0][0]                    \n",
      "____________________________________________________________________________________________________\n",
      "dense_2 (Dense)                  (None, 512)           262656      activation_1[0][0]               \n",
      "____________________________________________________________________________________________________\n",
      "activation_2 (Activation)        (None, 512)           0           dense_2[0][0]                    \n",
      "____________________________________________________________________________________________________\n",
      "dense_3 (Dense)                  (None, 10)            5130        activation_2[0][0]               \n",
      "____________________________________________________________________________________________________\n",
      "activation_3 (Activation)        (None, 10)            0           dense_3[0][0]                    \n",
      "====================================================================================================\n",
      "Total params: 669706\n",
      "____________________________________________________________________________________________________\n"
     ]
    }
   ],
   "source": [
    "from __future__ import print_function\n",
    "import numpy as np\n",
    "\n",
    "np.random.seed(42)  # for reproducibility\n",
    "\n",
    "from keras.models import Sequential\n",
    "from keras.layers.core import Dense, Dropout, Activation\n",
    "\n",
    "model = Sequential()\n",
    "model.add(Dense(512, input_shape=(784,)))\n",
    "model.add(Activation('relu'))\n",
    "model.add(Dense(512))\n",
    "model.add(Activation('relu'))\n",
    "model.add(Dense(10))\n",
    "model.add(Activation('softmax'))\n",
    "\n",
    "model.summary()"
   ]
  },
  {
   "cell_type": "markdown",
   "metadata": {},
   "source": [
    "The code is short but there's a lot going on here, so let's analyze the code in parts.\n",
    "\n",
    "- `model = Sequential()`: `Sequential` models are stacks of layers, where the output of the previous layer is the input of the current layer.\n",
    "\n",
    "- `model.add`: adds a layer to the model. \n",
    "\n",
    "- `Dense`: a `Dense` layer simply performs an affine transform $z = Wx + b$.\n",
    "\n",
    "- `Activation`: applies an elementwise non-linearity $g()$ to the output of the previous layer: $a = g(z)$. You do not have to add it separately: the initializer for most layers in Keras, including `Dense`, has a keyword argument 'activation'.\n"
   ]
  },
  {
   "cell_type": "code",
   "execution_count": null,
   "metadata": {
    "collapsed": false
   },
   "outputs": [],
   "source": [
    "from keras.datasets import mnist\n",
    "from keras.utils import np_utils\n",
    "\n",
    "# the data, shuffled and split between train and test sets\n",
    "(X_train, y_train), (X_test, y_test) = mnist.load_data()\n",
    "\n",
    "nb_classes = 10 # Digits from 0 to 9\n",
    "\n",
    "X_train = X_train.reshape(60000, 784)\n",
    "X_test = X_test.reshape(10000, 784)\n",
    "X_train = X_train.astype('float32')\n",
    "X_test = X_test.astype('float32')\n",
    "X_train /= 255\n",
    "X_test /= 255\n",
    "print(X_train.shape[0], 'train samples')\n",
    "print(X_test.shape[0], 'test samples')\n",
    "\n",
    "# convert class vectors to binary class matrices\n",
    "Y_train = np_utils.to_categorical(y_train, nb_classes)\n",
    "Y_test = np_utils.to_categorical(y_test, nb_classes)\n"
   ]
  },
  {
   "cell_type": "code",
   "execution_count": null,
   "metadata": {
    "collapsed": false
   },
   "outputs": [],
   "source": [
    "%matplotlib inline\n",
    "from matplotlib import pyplot as plt\n",
    "\n",
    "plt.imshow(X_train[1].reshape(28,28), cmap='gray')"
   ]
  },
  {
   "cell_type": "markdown",
   "metadata": {},
   "source": [
    "Keras is based on Theano or Tensorflow, which are libraries that allow you to define mathematical expressions symbolically and get an optimized implementation of the expressions and its gradients \"for free\". However, that means models have to be compiled prior to training/inference, as the symbolic expressions need to be converted to C++/CUDA code and compiled. Your Python code will automatically interact with this compiled code, so you do not need to worry about interfacing."
   ]
  },
  {
   "cell_type": "code",
   "execution_count": null,
   "metadata": {
    "collapsed": true
   },
   "outputs": [],
   "source": [
    "from keras.optimizers import SGD, Adam, RMSprop\n",
    "\n",
    "model.compile(loss='categorical_crossentropy',\n",
    "              optimizer=RMSprop(),\n",
    "              metrics=['accuracy'])"
   ]
  },
  {
   "cell_type": "markdown",
   "metadata": {},
   "source": [
    "When compiling a model, you also need to pass at least two other elements:\n",
    "\n",
    "1. The loss that will be optimized during training\n",
    "2. An optimizer algorithm, which will be responsible for updating the model after each iteration\n",
    "\n",
    "You can also optionally pass a number of metrics that will be evaluated at each iteration, but that are not used in the cost function. In this case, we want to know the accuracy of the optimizer."
   ]
  },
  {
   "cell_type": "code",
   "execution_count": null,
   "metadata": {
    "collapsed": false
   },
   "outputs": [],
   "source": [
    "batch_size = 128\n",
    "nb_epoch = 10\n",
    "\n",
    "history = model.fit(X_train, Y_train,\n",
    "                    batch_size=batch_size, nb_epoch=nb_epoch,\n",
    "                    verbose=1, validation_data=(X_test, Y_test))"
   ]
  },
  {
   "cell_type": "markdown",
   "metadata": {},
   "source": [
    "We can also plot a high-level graph to visualize the model. Not very exciting for models like this but can be really convenient once you have models whose architecture is instantiated programmatically or multiple input/output models.\n",
    "\n",
    "Note: you have to install the `pydot-ng` package for this to work. To install it with Conda, call `conda install pydot-ng`."
   ]
  },
  {
   "cell_type": "code",
   "execution_count": 2,
   "metadata": {
    "collapsed": false
   },
   "outputs": [
    {
     "data": {
      "image/svg+xml": [
       "<svg height=\"553pt\" viewBox=\"0.00 0.00 319.00 553.00\" width=\"319pt\" xmlns=\"http://www.w3.org/2000/svg\" xmlns:xlink=\"http://www.w3.org/1999/xlink\">\n",
       "<g class=\"graph\" id=\"graph0\" transform=\"scale(1 1) rotate(0) translate(4 549)\">\n",
       "<title>G</title>\n",
       "<polygon fill=\"white\" points=\"-4,4 -4,-549 315,-549 315,4 -4,4\" stroke=\"none\"/>\n",
       "<!-- 147139272 -->\n",
       "<g class=\"node\" id=\"node1\"><title>147139272</title>\n",
       "<polygon fill=\"none\" points=\"0,-498.5 0,-544.5 311,-544.5 311,-498.5 0,-498.5\" stroke=\"black\"/>\n",
       "<text font-family=\"Times New Roman,serif\" font-size=\"14.00\" text-anchor=\"middle\" x=\"86\" y=\"-517.8\">dense_input_1 (InputLayer)</text>\n",
       "<polyline fill=\"none\" points=\"172,-498.5 172,-544.5 \" stroke=\"black\"/>\n",
       "<text font-family=\"Times New Roman,serif\" font-size=\"14.00\" text-anchor=\"middle\" x=\"200\" y=\"-529.3\">input:</text>\n",
       "<polyline fill=\"none\" points=\"172,-521.5 228,-521.5 \" stroke=\"black\"/>\n",
       "<text font-family=\"Times New Roman,serif\" font-size=\"14.00\" text-anchor=\"middle\" x=\"200\" y=\"-506.3\">output:</text>\n",
       "<polyline fill=\"none\" points=\"228,-498.5 228,-544.5 \" stroke=\"black\"/>\n",
       "<text font-family=\"Times New Roman,serif\" font-size=\"14.00\" text-anchor=\"middle\" x=\"269.5\" y=\"-529.3\">(None, 784)</text>\n",
       "<polyline fill=\"none\" points=\"228,-521.5 311,-521.5 \" stroke=\"black\"/>\n",
       "<text font-family=\"Times New Roman,serif\" font-size=\"14.00\" text-anchor=\"middle\" x=\"269.5\" y=\"-506.3\">(None, 784)</text>\n",
       "</g>\n",
       "<!-- 65552456 -->\n",
       "<g class=\"node\" id=\"node2\"><title>65552456</title>\n",
       "<polygon fill=\"none\" points=\"31,-415.5 31,-461.5 280,-461.5 280,-415.5 31,-415.5\" stroke=\"black\"/>\n",
       "<text font-family=\"Times New Roman,serif\" font-size=\"14.00\" text-anchor=\"middle\" x=\"86\" y=\"-434.8\">dense_1 (Dense)</text>\n",
       "<polyline fill=\"none\" points=\"141,-415.5 141,-461.5 \" stroke=\"black\"/>\n",
       "<text font-family=\"Times New Roman,serif\" font-size=\"14.00\" text-anchor=\"middle\" x=\"169\" y=\"-446.3\">input:</text>\n",
       "<polyline fill=\"none\" points=\"141,-438.5 197,-438.5 \" stroke=\"black\"/>\n",
       "<text font-family=\"Times New Roman,serif\" font-size=\"14.00\" text-anchor=\"middle\" x=\"169\" y=\"-423.3\">output:</text>\n",
       "<polyline fill=\"none\" points=\"197,-415.5 197,-461.5 \" stroke=\"black\"/>\n",
       "<text font-family=\"Times New Roman,serif\" font-size=\"14.00\" text-anchor=\"middle\" x=\"238.5\" y=\"-446.3\">(None, 784)</text>\n",
       "<polyline fill=\"none\" points=\"197,-438.5 280,-438.5 \" stroke=\"black\"/>\n",
       "<text font-family=\"Times New Roman,serif\" font-size=\"14.00\" text-anchor=\"middle\" x=\"238.5\" y=\"-423.3\">(None, 512)</text>\n",
       "</g>\n",
       "<!-- 147139272&#45;&gt;65552456 -->\n",
       "<g class=\"edge\" id=\"edge1\"><title>147139272-&gt;65552456</title>\n",
       "<path d=\"M155.5,-498.366C155.5,-490.152 155.5,-480.658 155.5,-471.725\" fill=\"none\" stroke=\"black\"/>\n",
       "<polygon fill=\"black\" points=\"159,-471.607 155.5,-461.607 152,-471.607 159,-471.607\" stroke=\"black\"/>\n",
       "</g>\n",
       "<!-- 147136752 -->\n",
       "<g class=\"node\" id=\"node3\"><title>147136752</title>\n",
       "<polygon fill=\"none\" points=\"9,-332.5 9,-378.5 302,-378.5 302,-332.5 9,-332.5\" stroke=\"black\"/>\n",
       "<text font-family=\"Times New Roman,serif\" font-size=\"14.00\" text-anchor=\"middle\" x=\"86\" y=\"-351.8\">activation_1 (Activation)</text>\n",
       "<polyline fill=\"none\" points=\"163,-332.5 163,-378.5 \" stroke=\"black\"/>\n",
       "<text font-family=\"Times New Roman,serif\" font-size=\"14.00\" text-anchor=\"middle\" x=\"191\" y=\"-363.3\">input:</text>\n",
       "<polyline fill=\"none\" points=\"163,-355.5 219,-355.5 \" stroke=\"black\"/>\n",
       "<text font-family=\"Times New Roman,serif\" font-size=\"14.00\" text-anchor=\"middle\" x=\"191\" y=\"-340.3\">output:</text>\n",
       "<polyline fill=\"none\" points=\"219,-332.5 219,-378.5 \" stroke=\"black\"/>\n",
       "<text font-family=\"Times New Roman,serif\" font-size=\"14.00\" text-anchor=\"middle\" x=\"260.5\" y=\"-363.3\">(None, 512)</text>\n",
       "<polyline fill=\"none\" points=\"219,-355.5 302,-355.5 \" stroke=\"black\"/>\n",
       "<text font-family=\"Times New Roman,serif\" font-size=\"14.00\" text-anchor=\"middle\" x=\"260.5\" y=\"-340.3\">(None, 512)</text>\n",
       "</g>\n",
       "<!-- 65552456&#45;&gt;147136752 -->\n",
       "<g class=\"edge\" id=\"edge2\"><title>65552456-&gt;147136752</title>\n",
       "<path d=\"M155.5,-415.366C155.5,-407.152 155.5,-397.658 155.5,-388.725\" fill=\"none\" stroke=\"black\"/>\n",
       "<polygon fill=\"black\" points=\"159,-388.607 155.5,-378.607 152,-388.607 159,-388.607\" stroke=\"black\"/>\n",
       "</g>\n",
       "<!-- 140356016 -->\n",
       "<g class=\"node\" id=\"node4\"><title>140356016</title>\n",
       "<polygon fill=\"none\" points=\"31,-249.5 31,-295.5 280,-295.5 280,-249.5 31,-249.5\" stroke=\"black\"/>\n",
       "<text font-family=\"Times New Roman,serif\" font-size=\"14.00\" text-anchor=\"middle\" x=\"86\" y=\"-268.8\">dense_2 (Dense)</text>\n",
       "<polyline fill=\"none\" points=\"141,-249.5 141,-295.5 \" stroke=\"black\"/>\n",
       "<text font-family=\"Times New Roman,serif\" font-size=\"14.00\" text-anchor=\"middle\" x=\"169\" y=\"-280.3\">input:</text>\n",
       "<polyline fill=\"none\" points=\"141,-272.5 197,-272.5 \" stroke=\"black\"/>\n",
       "<text font-family=\"Times New Roman,serif\" font-size=\"14.00\" text-anchor=\"middle\" x=\"169\" y=\"-257.3\">output:</text>\n",
       "<polyline fill=\"none\" points=\"197,-249.5 197,-295.5 \" stroke=\"black\"/>\n",
       "<text font-family=\"Times New Roman,serif\" font-size=\"14.00\" text-anchor=\"middle\" x=\"238.5\" y=\"-280.3\">(None, 512)</text>\n",
       "<polyline fill=\"none\" points=\"197,-272.5 280,-272.5 \" stroke=\"black\"/>\n",
       "<text font-family=\"Times New Roman,serif\" font-size=\"14.00\" text-anchor=\"middle\" x=\"238.5\" y=\"-257.3\">(None, 512)</text>\n",
       "</g>\n",
       "<!-- 147136752&#45;&gt;140356016 -->\n",
       "<g class=\"edge\" id=\"edge3\"><title>147136752-&gt;140356016</title>\n",
       "<path d=\"M155.5,-332.366C155.5,-324.152 155.5,-314.658 155.5,-305.725\" fill=\"none\" stroke=\"black\"/>\n",
       "<polygon fill=\"black\" points=\"159,-305.607 155.5,-295.607 152,-305.607 159,-305.607\" stroke=\"black\"/>\n",
       "</g>\n",
       "<!-- 140324144 -->\n",
       "<g class=\"node\" id=\"node5\"><title>140324144</title>\n",
       "<polygon fill=\"none\" points=\"9,-166.5 9,-212.5 302,-212.5 302,-166.5 9,-166.5\" stroke=\"black\"/>\n",
       "<text font-family=\"Times New Roman,serif\" font-size=\"14.00\" text-anchor=\"middle\" x=\"86\" y=\"-185.8\">activation_2 (Activation)</text>\n",
       "<polyline fill=\"none\" points=\"163,-166.5 163,-212.5 \" stroke=\"black\"/>\n",
       "<text font-family=\"Times New Roman,serif\" font-size=\"14.00\" text-anchor=\"middle\" x=\"191\" y=\"-197.3\">input:</text>\n",
       "<polyline fill=\"none\" points=\"163,-189.5 219,-189.5 \" stroke=\"black\"/>\n",
       "<text font-family=\"Times New Roman,serif\" font-size=\"14.00\" text-anchor=\"middle\" x=\"191\" y=\"-174.3\">output:</text>\n",
       "<polyline fill=\"none\" points=\"219,-166.5 219,-212.5 \" stroke=\"black\"/>\n",
       "<text font-family=\"Times New Roman,serif\" font-size=\"14.00\" text-anchor=\"middle\" x=\"260.5\" y=\"-197.3\">(None, 512)</text>\n",
       "<polyline fill=\"none\" points=\"219,-189.5 302,-189.5 \" stroke=\"black\"/>\n",
       "<text font-family=\"Times New Roman,serif\" font-size=\"14.00\" text-anchor=\"middle\" x=\"260.5\" y=\"-174.3\">(None, 512)</text>\n",
       "</g>\n",
       "<!-- 140356016&#45;&gt;140324144 -->\n",
       "<g class=\"edge\" id=\"edge4\"><title>140356016-&gt;140324144</title>\n",
       "<path d=\"M155.5,-249.366C155.5,-241.152 155.5,-231.658 155.5,-222.725\" fill=\"none\" stroke=\"black\"/>\n",
       "<polygon fill=\"black\" points=\"159,-222.607 155.5,-212.607 152,-222.607 159,-222.607\" stroke=\"black\"/>\n",
       "</g>\n",
       "<!-- 145773176 -->\n",
       "<g class=\"node\" id=\"node6\"><title>145773176</title>\n",
       "<polygon fill=\"none\" points=\"31,-83.5 31,-129.5 280,-129.5 280,-83.5 31,-83.5\" stroke=\"black\"/>\n",
       "<text font-family=\"Times New Roman,serif\" font-size=\"14.00\" text-anchor=\"middle\" x=\"86\" y=\"-102.8\">dense_3 (Dense)</text>\n",
       "<polyline fill=\"none\" points=\"141,-83.5 141,-129.5 \" stroke=\"black\"/>\n",
       "<text font-family=\"Times New Roman,serif\" font-size=\"14.00\" text-anchor=\"middle\" x=\"169\" y=\"-114.3\">input:</text>\n",
       "<polyline fill=\"none\" points=\"141,-106.5 197,-106.5 \" stroke=\"black\"/>\n",
       "<text font-family=\"Times New Roman,serif\" font-size=\"14.00\" text-anchor=\"middle\" x=\"169\" y=\"-91.3\">output:</text>\n",
       "<polyline fill=\"none\" points=\"197,-83.5 197,-129.5 \" stroke=\"black\"/>\n",
       "<text font-family=\"Times New Roman,serif\" font-size=\"14.00\" text-anchor=\"middle\" x=\"238.5\" y=\"-114.3\">(None, 512)</text>\n",
       "<polyline fill=\"none\" points=\"197,-106.5 280,-106.5 \" stroke=\"black\"/>\n",
       "<text font-family=\"Times New Roman,serif\" font-size=\"14.00\" text-anchor=\"middle\" x=\"238.5\" y=\"-91.3\">(None, 10)</text>\n",
       "</g>\n",
       "<!-- 140324144&#45;&gt;145773176 -->\n",
       "<g class=\"edge\" id=\"edge5\"><title>140324144-&gt;145773176</title>\n",
       "<path d=\"M155.5,-166.366C155.5,-158.152 155.5,-148.658 155.5,-139.725\" fill=\"none\" stroke=\"black\"/>\n",
       "<polygon fill=\"black\" points=\"159,-139.607 155.5,-129.607 152,-139.607 159,-139.607\" stroke=\"black\"/>\n",
       "</g>\n",
       "<!-- 145774744 -->\n",
       "<g class=\"node\" id=\"node7\"><title>145774744</title>\n",
       "<polygon fill=\"none\" points=\"12,-0.5 12,-46.5 299,-46.5 299,-0.5 12,-0.5\" stroke=\"black\"/>\n",
       "<text font-family=\"Times New Roman,serif\" font-size=\"14.00\" text-anchor=\"middle\" x=\"89\" y=\"-19.8\">activation_3 (Activation)</text>\n",
       "<polyline fill=\"none\" points=\"166,-0.5 166,-46.5 \" stroke=\"black\"/>\n",
       "<text font-family=\"Times New Roman,serif\" font-size=\"14.00\" text-anchor=\"middle\" x=\"194\" y=\"-31.3\">input:</text>\n",
       "<polyline fill=\"none\" points=\"166,-23.5 222,-23.5 \" stroke=\"black\"/>\n",
       "<text font-family=\"Times New Roman,serif\" font-size=\"14.00\" text-anchor=\"middle\" x=\"194\" y=\"-8.3\">output:</text>\n",
       "<polyline fill=\"none\" points=\"222,-0.5 222,-46.5 \" stroke=\"black\"/>\n",
       "<text font-family=\"Times New Roman,serif\" font-size=\"14.00\" text-anchor=\"middle\" x=\"260.5\" y=\"-31.3\">(None, 10)</text>\n",
       "<polyline fill=\"none\" points=\"222,-23.5 299,-23.5 \" stroke=\"black\"/>\n",
       "<text font-family=\"Times New Roman,serif\" font-size=\"14.00\" text-anchor=\"middle\" x=\"260.5\" y=\"-8.3\">(None, 10)</text>\n",
       "</g>\n",
       "<!-- 145773176&#45;&gt;145774744 -->\n",
       "<g class=\"edge\" id=\"edge6\"><title>145773176-&gt;145774744</title>\n",
       "<path d=\"M155.5,-83.3664C155.5,-75.1516 155.5,-65.6579 155.5,-56.7252\" fill=\"none\" stroke=\"black\"/>\n",
       "<polygon fill=\"black\" points=\"159,-56.6068 155.5,-46.6068 152,-56.6069 159,-56.6068\" stroke=\"black\"/>\n",
       "</g>\n",
       "</g>\n",
       "</svg>"
      ],
      "text/plain": [
       "<IPython.core.display.SVG object>"
      ]
     },
     "execution_count": 2,
     "metadata": {},
     "output_type": "execute_result"
    }
   ],
   "source": [
    "from IPython.display import SVG\n",
    "from keras.utils.visualize_util import model_to_dot\n",
    "\n",
    "SVG(model_to_dot(model, show_shapes=True).create(prog='dot', format='svg'))"
   ]
  },
  {
   "cell_type": "code",
   "execution_count": null,
   "metadata": {
    "collapsed": true
   },
   "outputs": [],
   "source": []
  }
 ],
 "metadata": {
  "anaconda-cloud": {},
  "kernelspec": {
   "display_name": "Python 3",
   "language": "python",
   "name": "python3"
  },
  "language_info": {
   "codemirror_mode": {
    "name": "ipython",
    "version": 3
   },
   "file_extension": ".py",
   "mimetype": "text/x-python",
   "name": "python",
   "nbconvert_exporter": "python",
   "pygments_lexer": "ipython3",
   "version": "3.5.2"
  }
 },
 "nbformat": 4,
 "nbformat_minor": 0
}
